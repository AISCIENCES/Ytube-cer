{
 "cells": [
  {
   "cell_type": "code",
   "execution_count": 1,
   "id": "4dc50add",
   "metadata": {},
   "outputs": [],
   "source": [
    "import numpy as np\n",
    "import pandas as pd"
   ]
  },
  {
   "cell_type": "code",
   "execution_count": 2,
   "id": "b546905b",
   "metadata": {},
   "outputs": [],
   "source": [
    "import matplotlib.pyplot as plt\n",
    "import seaborn as sns"
   ]
  },
  {
   "cell_type": "code",
   "execution_count": 3,
   "id": "182cf2b8",
   "metadata": {},
   "outputs": [],
   "source": [
    "from seaborn import regression"
   ]
  },
  {
   "cell_type": "code",
   "execution_count": 4,
   "id": "a4c25bc7",
   "metadata": {},
   "outputs": [],
   "source": [
    "sns.set()"
   ]
  },
  {
   "cell_type": "code",
   "execution_count": 5,
   "id": "1a7d12cb",
   "metadata": {},
   "outputs": [],
   "source": [
    "plt.style.use('seaborn-whitegrid')"
   ]
  },
  {
   "cell_type": "code",
   "execution_count": 6,
   "id": "f1da8250",
   "metadata": {},
   "outputs": [],
   "source": [
    "data = pd.read_csv(\"Download.csv\")"
   ]
  },
  {
   "cell_type": "code",
   "execution_count": 7,
   "id": "cfe61cba",
   "metadata": {},
   "outputs": [
    {
     "data": {
      "text/html": [
       "<div>\n",
       "<style scoped>\n",
       "    .dataframe tbody tr th:only-of-type {\n",
       "        vertical-align: middle;\n",
       "    }\n",
       "\n",
       "    .dataframe tbody tr th {\n",
       "        vertical-align: top;\n",
       "    }\n",
       "\n",
       "    .dataframe thead th {\n",
       "        text-align: right;\n",
       "    }\n",
       "</style>\n",
       "<table border=\"1\" class=\"dataframe\">\n",
       "  <thead>\n",
       "    <tr style=\"text-align: right;\">\n",
       "      <th></th>\n",
       "      <th>Date</th>\n",
       "      <th>Open</th>\n",
       "      <th>High</th>\n",
       "      <th>Low</th>\n",
       "      <th>Close</th>\n",
       "    </tr>\n",
       "  </thead>\n",
       "  <tbody>\n",
       "    <tr>\n",
       "      <th>0</th>\n",
       "      <td>02/03/2023</td>\n",
       "      <td>82.05</td>\n",
       "      <td>82.54</td>\n",
       "      <td>81.78</td>\n",
       "      <td>82.49</td>\n",
       "    </tr>\n",
       "    <tr>\n",
       "      <th>1</th>\n",
       "      <td>02/02/2023</td>\n",
       "      <td>81.73</td>\n",
       "      <td>82.23</td>\n",
       "      <td>81.68</td>\n",
       "      <td>82.05</td>\n",
       "    </tr>\n",
       "    <tr>\n",
       "      <th>2</th>\n",
       "      <td>02/01/2023</td>\n",
       "      <td>81.77</td>\n",
       "      <td>82.04</td>\n",
       "      <td>81.50</td>\n",
       "      <td>81.73</td>\n",
       "    </tr>\n",
       "    <tr>\n",
       "      <th>3</th>\n",
       "      <td>01/31/2023</td>\n",
       "      <td>81.58</td>\n",
       "      <td>82.06</td>\n",
       "      <td>81.53</td>\n",
       "      <td>81.77</td>\n",
       "    </tr>\n",
       "    <tr>\n",
       "      <th>4</th>\n",
       "      <td>01/30/2023</td>\n",
       "      <td>81.51</td>\n",
       "      <td>81.72</td>\n",
       "      <td>81.46</td>\n",
       "      <td>81.58</td>\n",
       "    </tr>\n",
       "    <tr>\n",
       "      <th>5</th>\n",
       "      <td>01/27/2023</td>\n",
       "      <td>81.45</td>\n",
       "      <td>81.66</td>\n",
       "      <td>81.44</td>\n",
       "      <td>81.51</td>\n",
       "    </tr>\n",
       "    <tr>\n",
       "      <th>6</th>\n",
       "      <td>01/26/2023</td>\n",
       "      <td>81.50</td>\n",
       "      <td>81.58</td>\n",
       "      <td>81.43</td>\n",
       "      <td>81.45</td>\n",
       "    </tr>\n",
       "    <tr>\n",
       "      <th>7</th>\n",
       "      <td>01/25/2023</td>\n",
       "      <td>81.60</td>\n",
       "      <td>81.76</td>\n",
       "      <td>81.39</td>\n",
       "      <td>81.50</td>\n",
       "    </tr>\n",
       "    <tr>\n",
       "      <th>8</th>\n",
       "      <td>01/24/2023</td>\n",
       "      <td>81.49</td>\n",
       "      <td>81.74</td>\n",
       "      <td>81.41</td>\n",
       "      <td>81.60</td>\n",
       "    </tr>\n",
       "    <tr>\n",
       "      <th>9</th>\n",
       "      <td>01/23/2023</td>\n",
       "      <td>80.98</td>\n",
       "      <td>81.50</td>\n",
       "      <td>80.88</td>\n",
       "      <td>81.48</td>\n",
       "    </tr>\n",
       "    <tr>\n",
       "      <th>10</th>\n",
       "      <td>01/20/2023</td>\n",
       "      <td>81.23</td>\n",
       "      <td>81.37</td>\n",
       "      <td>80.93</td>\n",
       "      <td>80.97</td>\n",
       "    </tr>\n",
       "    <tr>\n",
       "      <th>11</th>\n",
       "      <td>01/19/2023</td>\n",
       "      <td>81.44</td>\n",
       "      <td>81.57</td>\n",
       "      <td>81.22</td>\n",
       "      <td>81.24</td>\n",
       "    </tr>\n",
       "    <tr>\n",
       "      <th>12</th>\n",
       "      <td>01/18/2023</td>\n",
       "      <td>81.52</td>\n",
       "      <td>81.82</td>\n",
       "      <td>81.16</td>\n",
       "      <td>81.44</td>\n",
       "    </tr>\n",
       "    <tr>\n",
       "      <th>13</th>\n",
       "      <td>01/17/2023</td>\n",
       "      <td>81.65</td>\n",
       "      <td>81.88</td>\n",
       "      <td>81.52</td>\n",
       "      <td>81.52</td>\n",
       "    </tr>\n",
       "    <tr>\n",
       "      <th>14</th>\n",
       "      <td>01/16/2023</td>\n",
       "      <td>81.29</td>\n",
       "      <td>81.71</td>\n",
       "      <td>81.16</td>\n",
       "      <td>81.65</td>\n",
       "    </tr>\n",
       "    <tr>\n",
       "      <th>15</th>\n",
       "      <td>01/13/2023</td>\n",
       "      <td>81.14</td>\n",
       "      <td>81.53</td>\n",
       "      <td>81.11</td>\n",
       "      <td>81.28</td>\n",
       "    </tr>\n",
       "    <tr>\n",
       "      <th>16</th>\n",
       "      <td>01/12/2023</td>\n",
       "      <td>81.63</td>\n",
       "      <td>81.78</td>\n",
       "      <td>81.08</td>\n",
       "      <td>81.14</td>\n",
       "    </tr>\n",
       "    <tr>\n",
       "      <th>17</th>\n",
       "      <td>01/11/2023</td>\n",
       "      <td>81.64</td>\n",
       "      <td>81.82</td>\n",
       "      <td>81.54</td>\n",
       "      <td>81.64</td>\n",
       "    </tr>\n",
       "    <tr>\n",
       "      <th>18</th>\n",
       "      <td>01/10/2023</td>\n",
       "      <td>82.18</td>\n",
       "      <td>82.53</td>\n",
       "      <td>81.59</td>\n",
       "      <td>81.64</td>\n",
       "    </tr>\n",
       "    <tr>\n",
       "      <th>19</th>\n",
       "      <td>01/09/2023</td>\n",
       "      <td>82.27</td>\n",
       "      <td>82.41</td>\n",
       "      <td>82.07</td>\n",
       "      <td>82.18</td>\n",
       "    </tr>\n",
       "    <tr>\n",
       "      <th>20</th>\n",
       "      <td>01/06/2023</td>\n",
       "      <td>82.64</td>\n",
       "      <td>82.78</td>\n",
       "      <td>82.19</td>\n",
       "      <td>82.27</td>\n",
       "    </tr>\n",
       "    <tr>\n",
       "      <th>21</th>\n",
       "      <td>01/05/2023</td>\n",
       "      <td>82.67</td>\n",
       "      <td>82.83</td>\n",
       "      <td>82.43</td>\n",
       "      <td>82.65</td>\n",
       "    </tr>\n",
       "    <tr>\n",
       "      <th>22</th>\n",
       "      <td>01/04/2023</td>\n",
       "      <td>82.78</td>\n",
       "      <td>83.05</td>\n",
       "      <td>82.65</td>\n",
       "      <td>82.67</td>\n",
       "    </tr>\n",
       "  </tbody>\n",
       "</table>\n",
       "</div>"
      ],
      "text/plain": [
       "          Date   Open   High    Low  Close\n",
       "0   02/03/2023  82.05  82.54  81.78  82.49\n",
       "1   02/02/2023  81.73  82.23  81.68  82.05\n",
       "2   02/01/2023  81.77  82.04  81.50  81.73\n",
       "3   01/31/2023  81.58  82.06  81.53  81.77\n",
       "4   01/30/2023  81.51  81.72  81.46  81.58\n",
       "5   01/27/2023  81.45  81.66  81.44  81.51\n",
       "6   01/26/2023  81.50  81.58  81.43  81.45\n",
       "7   01/25/2023  81.60  81.76  81.39  81.50\n",
       "8   01/24/2023  81.49  81.74  81.41  81.60\n",
       "9   01/23/2023  80.98  81.50  80.88  81.48\n",
       "10  01/20/2023  81.23  81.37  80.93  80.97\n",
       "11  01/19/2023  81.44  81.57  81.22  81.24\n",
       "12  01/18/2023  81.52  81.82  81.16  81.44\n",
       "13  01/17/2023  81.65  81.88  81.52  81.52\n",
       "14  01/16/2023  81.29  81.71  81.16  81.65\n",
       "15  01/13/2023  81.14  81.53  81.11  81.28\n",
       "16  01/12/2023  81.63  81.78  81.08  81.14\n",
       "17  01/11/2023  81.64  81.82  81.54  81.64\n",
       "18  01/10/2023  82.18  82.53  81.59  81.64\n",
       "19  01/09/2023  82.27  82.41  82.07  82.18\n",
       "20  01/06/2023  82.64  82.78  82.19  82.27\n",
       "21  01/05/2023  82.67  82.83  82.43  82.65\n",
       "22  01/04/2023  82.78  83.05  82.65  82.67"
      ]
     },
     "execution_count": 7,
     "metadata": {},
     "output_type": "execute_result"
    }
   ],
   "source": [
    "data"
   ]
  },
  {
   "cell_type": "code",
   "execution_count": 9,
   "id": "4d98fca5",
   "metadata": {},
   "outputs": [
    {
     "data": {
      "image/png": "[encoded data removed]",
      "text/plain": [
       "<Figure size 720x288 with 1 Axes>"
      ]
     },
     "metadata": {},
     "output_type": "display_data"
    }
   ],
   "source": [
    "plt.figure(figsize=(10, 4))\n",
    "plt.title(\"INR - USD Exchange Rate\")\n",
    "plt.xlabel(\"Date\")\n",
    "plt.ylabel(\"Close\")\n",
    "plt.plot(data[\"Close\"])\n",
    "plt.show()"
   ]
  },
  {
   "cell_type": "code",
   "execution_count": 10,
   "id": "64724616",
   "metadata": {},
   "outputs": [],
   "source": [
    "x=data[[\"Open\",\"High\",\"Low\"]]\n",
    "y=data[\"Close\"]\n",
    "x=x.to_numpy()\n",
    "y=y.to_numpy()\n",
    "y=y.reshape(-1,1)"
   ]
  },
  {
   "cell_type": "code",
   "execution_count": 11,
   "id": "ae74af55",
   "metadata": {},
   "outputs": [],
   "source": [
    "from sklearn.model_selection import train_test_split\n",
    "xtrain,xtest,ytrain,ytest=train_test_split(x,y,test_size=0.2,random_state=42)"
   ]
  },
  {
   "cell_type": "code",
   "execution_count": 12,
   "id": "08eebded",
   "metadata": {},
   "outputs": [
    {
     "data": {
      "text/plain": [
       "DecisionTreeRegressor()"
      ]
     },
     "execution_count": 12,
     "metadata": {},
     "output_type": "execute_result"
    }
   ],
   "source": [
    "from sklearn.tree import DecisionTreeRegressor\n",
    "model=DecisionTreeRegressor()\n",
    "model.fit(xtrain,ytrain)"
   ]
  },
  {
   "cell_type": "code",
   "execution_count": 13,
   "id": "69aec508",
   "metadata": {},
   "outputs": [],
   "source": [
    "ypred=model.predict(xtest)"
   ]
  },
  {
   "cell_type": "code",
   "execution_count": 14,
   "id": "0e698f26",
   "metadata": {},
   "outputs": [
    {
     "data": {
      "text/plain": [
       "array([80.97, 80.97, 82.18, 81.45, 81.52])"
      ]
     },
     "execution_count": 14,
     "metadata": {},
     "output_type": "execute_result"
    }
   ],
   "source": [
    "ypred"
   ]
  },
  {
   "cell_type": "code",
   "execution_count": null,
   "id": "65c7c434",
   "metadata": {},
   "outputs": [],
   "source": []
  }
 ],
 "metadata": {
  "kernelspec": {
   "display_name": "Python 3 (ipykernel)",
   "language": "python",
   "name": "python3"
  },
  "language_info": {
   "codemirror_mode": {
    "name": "ipython",
    "version": 3
   },
   "file_extension": ".py",
   "mimetype": "text/x-python",
   "name": "python",
   "nbconvert_exporter": "python",
   "pygments_lexer": "ipython3",
   "version": "3.8.11"
  }
 },
 "nbformat": 4,
 "nbformat_minor": 5
}
